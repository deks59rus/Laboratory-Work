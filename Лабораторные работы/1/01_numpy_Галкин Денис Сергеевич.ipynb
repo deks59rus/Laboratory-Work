{
 "cells": [
  {
   "cell_type": "markdown",
   "metadata": {},
   "source": [
    "# Numpy"
   ]
  },
  {
   "cell_type": "markdown",
   "metadata": {},
   "source": [
    "Материалы:\n",
    "* Макрушин С.В. \"Лекция 1: Библиотека Numpy\"\n",
    "* https://numpy.org/doc/stable/user/index.html\n",
    "* https://numpy.org/doc/stable/reference/index.html"
   ]
  },
  {
   "cell_type": "markdown",
   "metadata": {},
   "source": [
    "## Задачи для совместного разбора"
   ]
  },
  {
   "cell_type": "markdown",
   "metadata": {},
   "source": [
    "1. Сгенерировать двухмерный массив `arr` размерности (4, 7), состоящий из случайных действительных чисел, равномерно распределенных в диапазоне от 0 до 20. Нормализовать значения массива с помощью преобразования вида  $𝑎𝑥+𝑏$  так, что после нормализации максимальный элемент масcива будет равен 1.0, минимальный 0.0"
   ]
  },
  {
   "cell_type": "code",
   "execution_count": 4,
   "metadata": {},
   "outputs": [],
   "source": [
    "import numpy as np"
   ]
  },
  {
   "cell_type": "code",
   "execution_count": 6,
   "metadata": {},
   "outputs": [
    {
     "data": {
      "text/plain": [
       "array([[ 4, 10, 12, 18,  3,  0, 12],\n",
       "       [ 0,  8,  6,  4,  2,  1, 11],\n",
       "       [ 8, 17,  1, 10, 17,  6,  8],\n",
       "       [ 7,  1,  9, 11,  6, 16, 11]])"
      ]
     },
     "execution_count": 6,
     "metadata": {},
     "output_type": "execute_result"
    }
   ],
   "source": [
    "np.random.randint(0, 20, size = (4, 7))"
   ]
  },
  {
   "cell_type": "markdown",
   "metadata": {},
   "source": [
    "2. Создать матрицу 8 на 10 из случайных целых (используя модуль `numpy.random`) чисел из диапозона от 0 до 10 и найти в ней строку (ее индекс и вывести саму строку), в которой сумма значений минимальна."
   ]
  },
  {
   "cell_type": "code",
   "execution_count": 7,
   "metadata": {},
   "outputs": [
    {
     "data": {
      "text/plain": [
       "array([[3, 7, 9, 1, 9, 6, 9, 3, 2, 9],\n",
       "       [7, 8, 9, 7, 8, 3, 1, 5, 3, 9],\n",
       "       [1, 4, 2, 3, 9, 4, 1, 5, 4, 1],\n",
       "       [1, 4, 7, 9, 4, 7, 6, 8, 7, 8],\n",
       "       [0, 9, 4, 7, 8, 4, 5, 2, 4, 6],\n",
       "       [6, 1, 2, 9, 6, 8, 1, 9, 0, 2],\n",
       "       [5, 2, 4, 5, 9, 2, 1, 7, 5, 1],\n",
       "       [9, 2, 8, 5, 1, 4, 7, 9, 6, 2]])"
      ]
     },
     "execution_count": 7,
     "metadata": {},
     "output_type": "execute_result"
    }
   ],
   "source": [
    "np.random.randint(0, 10, size = (8, 10))"
   ]
  },
  {
   "cell_type": "markdown",
   "metadata": {},
   "source": [
    "3. Найти евклидово расстояние между двумя одномерными векторами одинаковой размерности."
   ]
  },
  {
   "cell_type": "code",
   "execution_count": 10,
   "metadata": {},
   "outputs": [],
   "source": [
    "import matplotlib.pyplot as pl\n",
    "from mpl_toolkits.mplot3d import Axes3D"
   ]
  },
  {
   "cell_type": "code",
   "execution_count": null,
   "metadata": {},
   "outputs": [],
   "source": []
  },
  {
   "cell_type": "markdown",
   "metadata": {},
   "source": [
    "4. Решить матричное уравнение `A*X*B=-C` - найти матрицу `X`. Где `A = [[-1, 2, 4], [-3, 1, 2], [-3, 0, 1]]`, `B=[[3, -1], [2, 1]]`, `C=[[7, 21], [11, 8], [8, 4]]`."
   ]
  },
  {
   "cell_type": "markdown",
   "metadata": {},
   "source": [
    "## Лабораторная работа №1"
   ]
  },
  {
   "cell_type": "markdown",
   "metadata": {},
   "source": [
    "Замечание: при решении данных задач не подразумевается использования циклов или генераторов Python, если в задании не сказано обратного. Решение должно опираться на использования функционала библиотеки `numpy`."
   ]
  },
  {
   "cell_type": "markdown",
   "metadata": {},
   "source": [
    "1. Файл `minutes_n_ingredients.csv` содержит информацию об идентификаторе рецепта, времени его выполнения в минутах и количестве необходимых ингредиентов. Считайте данные из этого файла в виде массива `numpy` типа `int32`, используя `np.loadtxt`. Выведите на экран первые 5 строк массива."
   ]
  },
  {
   "cell_type": "markdown",
   "metadata": {},
   "source": [
    "2. Вычислите среднее значение, минимум, максимум и медиану по каждому из столбцов, кроме первого."
   ]
  },
  {
   "cell_type": "markdown",
   "metadata": {},
   "source": [
    "3. Ограничьте сверху значения продолжительности выполнения рецепта значением квантиля $q_{0.75}$. "
   ]
  },
  {
   "cell_type": "markdown",
   "metadata": {},
   "source": [
    "4. Посчитайте, для скольких рецептов указана продолжительность, равная нулю. Замените для таких строк значение в данном столбце на 1."
   ]
  },
  {
   "cell_type": "markdown",
   "metadata": {},
   "source": [
    "5. Посчитайте, сколько уникальных рецептов находится в датасете."
   ]
  },
  {
   "cell_type": "markdown",
   "metadata": {},
   "source": [
    "6. Сколько и каких различных значений кол-ва ингредиентов присутвует в рецептах из датасета?"
   ]
  },
  {
   "cell_type": "markdown",
   "metadata": {},
   "source": [
    "7. Создайте версию массива, содержащую информацию только о рецептах, состоящих не более чем из 5 ингредиентов."
   ]
  },
  {
   "cell_type": "markdown",
   "metadata": {},
   "source": [
    "8. Для каждого рецепта посчитайте, сколько в среднем ингредиентов приходится на одну минуту рецепта. Найдите максимальное значение этой величины для всего датасета"
   ]
  },
  {
   "cell_type": "markdown",
   "metadata": {},
   "source": [
    "9. Вычислите среднее количество ингредиентов для топ-100 рецептов с наибольшей продолжительностью"
   ]
  },
  {
   "cell_type": "markdown",
   "metadata": {},
   "source": [
    "10. Выберите случайным образом и выведите информацию о 10 различных рецептах"
   ]
  },
  {
   "cell_type": "markdown",
   "metadata": {},
   "source": [
    "11. Выведите процент рецептов, кол-во ингредиентов в которых меньше среднего."
   ]
  },
  {
   "cell_type": "markdown",
   "metadata": {},
   "source": [
    "12. Назовем \"простым\" такой рецепт, длительность выполнения которого не больше 20 минут и кол-во ингредиентов в котором не больше 5. Создайте версию датасета с дополнительным столбцом, значениями которого являются 1, если рецепт простой, и 0 в противном случае."
   ]
  },
  {
   "cell_type": "markdown",
   "metadata": {},
   "source": [
    "13. Выведите процент \"простых\" рецептов в датасете"
   ]
  },
  {
   "cell_type": "markdown",
   "metadata": {},
   "source": [
    "14. Разделим рецепты на группы по следующему правилу. Назовем рецепты короткими, если их продолжительность составляет менее 10 минут; стандартными, если их продолжительность составляет более 10, но менее 20 минут; и длинными, если их продолжительность составляет не менее 20 минут. Создайте трехмерный массив, где нулевая ось отвечает за номер группы (короткий, стандартный или длинный рецепт), первая ось - за сам рецепт и вторая ось - за характеристики рецепта. Выберите максимальное количество рецептов из каждой группы таким образом, чтобы было возможно сформировать трехмерный массив. Выведите форму полученного массива."
   ]
  },
  {
   "cell_type": "code",
   "execution_count": 102,
   "metadata": {},
   "outputs": [],
   "source": [
    "def Print(a):\n",
    "    for elem in a:\n",
    "        print(elem)\n"
   ]
  },
  {
   "cell_type": "markdown",
   "metadata": {},
   "source": [
    "# Выполнение Лабораторной работы №1"
   ]
  },
  {
   "cell_type": "markdown",
   "metadata": {},
   "source": [
    "#1 Файл minutes_n_ingredients.csv содержит информацию об идентификаторе рецепта, времени его выполнения в минутах и количестве необходимых ингредиентов. Считайте данные из этого файла в виде массива numpy типа int32, используя np.loadtxt. Выведите на экран первые 5 строк массива."
   ]
  },
  {
   "cell_type": "code",
   "execution_count": 111,
   "metadata": {},
   "outputs": [
    {
     "name": "stdout",
     "output_type": "stream",
     "text": [
      "ID \t minutes \t n_ingridients\n",
      "[[127244     60     16]\n",
      " [ 23891     25      7]\n",
      " [ 94746     10      6]\n",
      " [ 67660      5      6]\n",
      " [157911     60     14]]\n"
     ]
    }
   ],
   "source": [
    "import numpy as np\n",
    "array = np.loadtxt('data\\minutes_n_ingredients.csv', delimiter=',', dtype=np.int32, skiprows = 1)\n",
    "print(\"ID \\t minutes \\t n_ingridients\")\n",
    "print(array[:5])"
   ]
  },
  {
   "cell_type": "markdown",
   "metadata": {},
   "source": [
    "#2 Вычислите среднее значение, минимум, максимум и медиану по каждому из столбцов, кроме первого."
   ]
  },
  {
   "cell_type": "code",
   "execution_count": 47,
   "metadata": {},
   "outputs": [
    {
     "name": "stdout",
     "output_type": "stream",
     "text": [
      "Среднее значение:   [2.1575027e+04 9.0552797e+00] \n",
      "Значения минимума:  [0 1]\n",
      "Значения максимума: [2147483647         39] \n",
      "Медианные значения: [40.  9.]\n"
     ]
    }
   ],
   "source": [
    "meanValues = np.mean(array[:,1:],axis=0, dtype = np.float32, keepdims = False)\n",
    "minValues = array[:,1:].min(axis=0)\n",
    "maxValues = array[:,1:].max(axis=0)\n",
    "medianValues = np.median(array[:,1:], axis=0)\n",
    "print(f\"Среднее значение:   {meanValues} \\nЗначения минимума:  {minValues}\\nЗначения максимума: {maxValues} \\nМедианные значения: {medianValues}\")"
   ]
  },
  {
   "cell_type": "markdown",
   "metadata": {},
   "source": [
    "№3 Ограничьте сверху значения продолжительности выполнения рецепта значением квантиля  𝑞 0.75"
   ]
  },
  {
   "cell_type": "code",
   "execution_count": 48,
   "metadata": {},
   "outputs": [
    {
     "name": "stdout",
     "output_type": "stream",
     "text": [
      "65.0\n",
      "Массив ограниченный сверху квантилем 0.75:\n"
     ]
    },
    {
     "data": {
      "text/plain": [
       "array([[127244,     60,     16],\n",
       "       [ 23891,     25,      7],\n",
       "       [ 94746,     10,      6],\n",
       "       ...,\n",
       "       [ 43407,     35,      7],\n",
       "       [498432,     65,     15],\n",
       "       [370915,      5,      4]])"
      ]
     },
     "execution_count": 48,
     "metadata": {},
     "output_type": "execute_result"
    }
   ],
   "source": [
    "quantileValue=np.quantile(array[:,1], q=0.75,axis=0)\n",
    "print(quantileValue)\n",
    "maskArray =array[:,1]<= quantileValue\n",
    "quantiledArray = array[maskArray]\n",
    "print(\"Массив ограниченный сверху квантилем 0.75:\")\n",
    "quantiledArray"
   ]
  },
  {
   "cell_type": "markdown",
   "metadata": {},
   "source": [
    "#4 Посчитайте, для скольких рецептов указана продолжительность, равная нулю. Замените для таких строк значение в данном столбце на 1"
   ]
  },
  {
   "cell_type": "code",
   "execution_count": 121,
   "metadata": {},
   "outputs": [
    {
     "name": "stdout",
     "output_type": "stream",
     "text": [
      "(0, 3)\n",
      "[]\n",
      "Для 0 рецептов указана продолжительность, равная нулю:\n"
     ]
    }
   ],
   "source": [
    "counter= 0\n",
    "counter=np.count_nonzero(array[:,1]==0)\n",
    "print(array[array[:,1]==0].shape)\n",
    "print(array[array[:,1]==0])\n",
    "np.place(array, array==0, [1])\n",
    "\n",
    "print(f\"Для {counter} рецептов указана продолжительность, равная нулю:\")\n"
   ]
  },
  {
   "cell_type": "markdown",
   "metadata": {},
   "source": [
    "#5 Посчитайте, сколько уникальных рецептов находится в датасете."
   ]
  },
  {
   "cell_type": "code",
   "execution_count": 120,
   "metadata": {},
   "outputs": [
    {
     "name": "stdout",
     "output_type": "stream",
     "text": [
      "[    38     41     43 ... 537458 537485 537671]\n",
      "100000\n",
      "Всего рецептов: 100000\n",
      "В датасете находится 100000 уникальных рецептов\n"
     ]
    }
   ],
   "source": [
    "recepieid = array[:, [0]]\n",
    "print(np.unique(recepieid))\n",
    "print(np.unique(recepieid).size)\n",
    "print(\"Всего рецептов:\",array[:,0].shape[0])\n",
    "print(f\"В датасете находится {np.unique(array[:,0]).shape[0]} уникальных рецептов\")"
   ]
  },
  {
   "cell_type": "markdown",
   "metadata": {},
   "source": [
    "#6 Сколько и каких различных значений кол-ва ингредиентов присутвует в рецептах из датасета?"
   ]
  },
  {
   "cell_type": "code",
   "execution_count": 119,
   "metadata": {},
   "outputs": [
    {
     "name": "stdout",
     "output_type": "stream",
     "text": [
      "В датасете присутствуют 37 уникальных значений кол-ва ингридиентов\n",
      "Значения: [ 1  2  3  4  5  6  7  8  9 10 11 12 13 14 15 16 17 18 19 20 21 22 23 24\n",
      " 25 26 27 28 29 30 31 32 33 34 35 37 39]\n"
     ]
    }
   ],
   "source": [
    "uniqueRecipes= np.unique(array[:,2])\n",
    "print(f\"В датасете присутствуют {np.unique(array[:,2]).shape[0]} уникальных значений кол-ва ингридиентов\")\n",
    "print(f\"Значения: {uniqueRecipes}\")"
   ]
  },
  {
   "cell_type": "markdown",
   "metadata": {},
   "source": [
    "#7 Создайте версию массива, содержащую информацию только о рецептах, состоящих не более чем из 5 ингредиентов."
   ]
  },
  {
   "cell_type": "code",
   "execution_count": 122,
   "metadata": {},
   "outputs": [
    {
     "name": "stdout",
     "output_type": "stream",
     "text": [
      "Массив, содержащий информацию только о рецептах, состоящих не более чем из 5 ингредиентов: \n",
      " [[446597     15      5]\n",
      " [204134      5      3]\n",
      " [ 25623      6      4]\n",
      " ...\n",
      " [ 52088     60      5]\n",
      " [128811     15      4]\n",
      " [370915      5      4]] \n",
      "Форма массива:\n",
      " (17262, 3)\n"
     ]
    }
   ],
   "source": [
    "newArray=array[array[:,2]<=5]\n",
    "print(\"Массив, содержащий информацию только о рецептах, состоящих не более чем из 5 ингредиентов: \\n\", newArray, \"\\nФорма массива:\\n\", newArray.shape)"
   ]
  },
  {
   "cell_type": "markdown",
   "metadata": {},
   "source": [
    "#8 Для каждого рецепта посчитайте, сколько в среднем ингредиентов приходится на одну минуту рецепта. Найдите максимальное значение этой величины для всего датасета"
   ]
  },
  {
   "cell_type": "code",
   "execution_count": 123,
   "metadata": {},
   "outputs": [
    {
     "name": "stdout",
     "output_type": "stream",
     "text": [
      "Массив средних значений для датасета: \n",
      " [0.26666667 0.28       0.6        ... 0.23076923 0.8        0.1       ]\n",
      "Максимальное значение этой величины для всего датасета: \n",
      " 24.0\n"
     ]
    }
   ],
   "source": [
    "averrageIngridients = array[:,2]/array[:,1]\n",
    "print(f\"Массив средних значений для датасета: \\n {averrageIngridients}\")\n",
    "print(f\"Максимальное значение этой величины для всего датасета: \\n {averrageIngridients.max()}\")\n",
    "#Print(averrageIngridients)"
   ]
  },
  {
   "cell_type": "markdown",
   "metadata": {},
   "source": [
    "#9 Вычислите среднее количество ингредиентов для топ-100 рецептов с наибольшей продолжительностью"
   ]
  },
  {
   "cell_type": "code",
   "execution_count": 45,
   "metadata": {},
   "outputs": [
    {
     "name": "stdout",
     "output_type": "stream",
     "text": [
      "(100, 3)\n",
      "Ответ: Среднее количество ингредиентов для топ-100 рецептов с наибольшей продолжительностью равно 8.89\n"
     ]
    }
   ],
   "source": [
    "SortedArray=array[array[:, 1].argsort(axis=0)]#Сортировка исходного массива\n",
    "SortedArray=(SortedArray[:-101:-1])#Обратный срез 100 элементов массива по кол-ву ингридиентов\n",
    "print(SortedArray.shape)#проверка формы среза\n",
    "#print(SortedArray) # проверка\n",
    "averrageValue =np.mean(SortedArray[:,2])#Вычисление среднего по 3 столбцу массива\n",
    "print (f\"Ответ: Среднее количество ингредиентов для топ-100 рецептов с наибольшей продолжительностью равно {averrageValue}\")"
   ]
  },
  {
   "cell_type": "markdown",
   "metadata": {},
   "source": [
    "#10 Выберите случайным образом и выведите информацию о 10 различных рецептах"
   ]
  },
  {
   "cell_type": "code",
   "execution_count": 25,
   "metadata": {},
   "outputs": [
    {
     "name": "stdout",
     "output_type": "stream",
     "text": [
      "ID \t minutes \t n_ingridients\n",
      "[[480495      5      5]\n",
      " [ 80467     75     12]\n",
      " [136406     40      8]\n",
      " [ 27839     17     10]\n",
      " [ 48238     65      6]\n",
      " [419045     20      3]\n",
      " [357469     50     13]\n",
      " [260913     60     13]\n",
      " [ 10766     30      5]\n",
      " [ 54866     20     17]]\n"
     ]
    }
   ],
   "source": [
    "numRows = array.shape[0]\n",
    "random = np.random.choice(numRows, \n",
    "                                  size=10, \n",
    "                                  replace=False)\n",
    "\n",
    "print(\"ID \\t minutes \\t n_ingridients\")\n",
    "print(array[random, :])"
   ]
  },
  {
   "cell_type": "markdown",
   "metadata": {},
   "source": [
    "#11 Выведите процент рецептов, кол-во ингредиентов в которых меньше среднего."
   ]
  },
  {
   "cell_type": "code",
   "execution_count": 9,
   "metadata": {},
   "outputs": [
    {
     "name": "stdout",
     "output_type": "stream",
     "text": [
      "(58802, 3)\n",
      "Ответ: 58.802 - процент рецептов, кол-во ингредиентов в которых меньше среднего 58.802\n"
     ]
    }
   ],
   "source": [
    "averrageV= array[:,2].mean()\n",
    "changedArray=array[array[:,2]<averrageV]\n",
    "print(changedArray.shape)\n",
    "value= changedArray.shape[0]/array.shape[0]\n",
    "percents=value*100\n",
    "print(f\"Ответ: {percents} - процент рецептов, кол-во ингредиентов в которых меньше среднего\", percents)"
   ]
  },
  {
   "cell_type": "markdown",
   "metadata": {},
   "source": [
    "#12 Назовем \"простым\" такой рецепт, длительность выполнения которого не больше 20 минут и кол-во ингредиентов в котором не больше 5. Создайте версию датасета с дополнительным столбцом, значениями которого являются 1, если рецепт простой, и 0 в противном случае."
   ]
  },
  {
   "cell_type": "code",
   "execution_count": 4,
   "metadata": {},
   "outputs": [
    {
     "name": "stdout",
     "output_type": "stream",
     "text": [
      "[[127244     60     16      0]\n",
      " [ 23891     25      7      0]\n",
      " [ 94746     10      6      0]\n",
      " ...\n",
      " [498432     65     15      0]\n",
      " [370915      5      4      1]\n",
      " [ 81993    140     14      0]]\n"
     ]
    }
   ],
   "source": [
    "x1 = array[:,1]<= 20 \n",
    "x2 = array[:,2]<=5\n",
    "extraColumn= np.logical_and(x1, x2)\n",
    "extraColumn=np.asanyarray(extraColumn, dtype=\"int64\")\n",
    "extraColumn=np.reshape(extraColumn, (-1, 1))\n",
    "a1= np.hstack((array, extraColumn))\n",
    "print(a1)"
   ]
  },
  {
   "cell_type": "markdown",
   "metadata": {},
   "source": [
    "#13 Выведите процент \"простых\" рецептов в датасете"
   ]
  },
  {
   "cell_type": "code",
   "execution_count": 5,
   "metadata": {},
   "outputs": [
    {
     "name": "stdout",
     "output_type": "stream",
     "text": [
      "Ответ: 9.552% - процент \"простых\"рецептов\n"
     ]
    }
   ],
   "source": [
    "simpleNum=a1[a1[:,3]==1].shape[0]\n",
    "allNum= a1.shape[0]\n",
    "percents= simpleNum/allNum* 100\n",
    "#print(simpleNum, allNum) проверка значений\n",
    "print(\"Ответ: %3.3f%% - процент \\\"простых\\\"рецептов\" %percents)"
   ]
  },
  {
   "cell_type": "markdown",
   "metadata": {},
   "source": [
    "#14 Разделим рецепты на группы по следующему правилу. Назовем рецепты короткими, если их продолжительность составляет менее 10 минут; стандартными, если их продолжительность составляет более 10, но менее 20 минут; и длинными, если их продолжительность составляет не менее 20 минут. Создайте трехмерный массив, где нулевая ось отвечает за номер группы (короткий, стандартный или длинный рецепт), первая ось - за сам рецепт и вторая ось - за характеристики рецепта. Выберите максимальное количество рецептов из каждой группы таким образом, чтобы было возможно сформировать трехмерный массив. Выведите форму полученного массива."
   ]
  },
  {
   "cell_type": "code",
   "execution_count": 8,
   "metadata": {},
   "outputs": [
    {
     "name": "stdout",
     "output_type": "stream",
     "text": [
      "(100000, 4)\n"
     ]
    },
    {
     "data": {
      "text/plain": [
       "array([[[ 67660,      5,      6],\n",
       "        [366174,      7,      9],\n",
       "        [204134,      5,      3],\n",
       "        ...,\n",
       "        [420725,      5,      3],\n",
       "        [  4747,      0,      9],\n",
       "        [370915,      5,      4]],\n",
       "\n",
       "       [[ 94746,     10,      6],\n",
       "        [ 33941,     18,      9],\n",
       "        [446597,     15,      5],\n",
       "        ...,\n",
       "        [331810,     13,     12],\n",
       "        [275677,     15,      8],\n",
       "        [282714,     15,      6]],\n",
       "\n",
       "       [[127244,     60,     16],\n",
       "        [ 23891,     25,      7],\n",
       "        [157911,     60,     14],\n",
       "        ...,\n",
       "        [ 24549,     70,      6],\n",
       "        [449468,     50,     11],\n",
       "        [ 28830,     65,     13]]])"
      ]
     },
     "execution_count": 8,
     "metadata": {},
     "output_type": "execute_result"
    }
   ],
   "source": [
    "print(a1.shape)\n",
    "fast = array[a1[:,1]< 10]\n",
    "medium = array[np.logical_and(a1[:,1]>=10, a1[:,1]<=20)]\n",
    "long = array[a1[:,1] >20]\n",
    "size= min(map(len, [fast, medium, long]))\n",
    "result = np.vstack(([fast[:size,:]],[medium[:size,:]], [long[:size, :]]))\n",
    "#column1= np.full((fast.shape[0], 1), 1)\n",
    "#column2= np.full((medium.shape[0], 1), 2)\n",
    "#column3= np.full((long.shape[0],1), 3)\n",
    "#fast= np.hstack((fast, column1))\n",
    "#medium =np.hstack((medium, column2))\n",
    "#long =np.hstack((long, column3))\n",
    "#final = np.concatenate([fast,medium], axis=0)\n",
    "#final =  np.concatenate([final,long], axis=0)\n",
    "#typeColumn=np.asanyarray(extraColumn, dtype=\"int32\")\n",
    "#typeColumn=np.reshape(typeColumn, (-1, 1))\n",
    "#arr1=np.hstack((a1, typeColumn))\n",
    "result"
   ]
  },
  {
   "cell_type": "code",
   "execution_count": null,
   "metadata": {},
   "outputs": [],
   "source": []
  }
 ],
 "metadata": {
  "kernelspec": {
   "display_name": "Python 3 (ipykernel)",
   "language": "python",
   "name": "python3"
  },
  "language_info": {
   "codemirror_mode": {
    "name": "ipython",
    "version": 3
   },
   "file_extension": ".py",
   "mimetype": "text/x-python",
   "name": "python",
   "nbconvert_exporter": "python",
   "pygments_lexer": "ipython3",
   "version": "3.9.13"
  }
 },
 "nbformat": 4,
 "nbformat_minor": 4
}
